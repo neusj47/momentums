{
 "cells": [
  {
   "cell_type": "code",
   "execution_count": 23,
   "id": "30de1e24",
   "metadata": {},
   "outputs": [],
   "source": [
    "# 절대 모멘텀 전략 \n",
    "# 0. Input 데이터 입력\n",
    "# 1. 절대모멘텀 trading signal 생성 \n",
    "# 2. 수익률 계산\n",
    "# 3. 성과지표 생성 "
   ]
  },
  {
   "cell_type": "code",
   "execution_count": 34,
   "id": "bfebccc3",
   "metadata": {},
   "outputs": [],
   "source": [
    "import pandas as pd\n",
    "import numpy as np\n",
    "import datetime\n",
    "import pandas_datareader as pdr"
   ]
  },
  {
   "cell_type": "code",
   "execution_count": 35,
   "id": "c4688e7d",
   "metadata": {},
   "outputs": [],
   "source": [
    "# 0. Input 데이터 입력 \n",
    "start_date = '2000-01-01'\n",
    "end_date = datetime.datetime.today()\n",
    "cost = 0\n",
    "lookback_m1 = 1\n",
    "lookback_m2 = 12\n",
    "TICKER = '^KS11'\n",
    "\n",
    "df = pdr.get_data_yahoo(TICKER, start = start_date, end = end_date)\n",
    "\n",
    "price_df = df.loc[:,['Adj Close']].copy()\n",
    "price_df = price_df.rename_axis('Date').reset_index()\n",
    "price_df['Date'] = pd.to_datetime(price_df['Date'])"
   ]
  },
  {
   "cell_type": "code",
   "execution_count": 36,
   "id": "f532e7b0",
   "metadata": {},
   "outputs": [
    {
     "data": {
      "text/html": [
       "<div>\n",
       "<style scoped>\n",
       "    .dataframe tbody tr th:only-of-type {\n",
       "        vertical-align: middle;\n",
       "    }\n",
       "\n",
       "    .dataframe tbody tr th {\n",
       "        vertical-align: top;\n",
       "    }\n",
       "\n",
       "    .dataframe thead th {\n",
       "        text-align: right;\n",
       "    }\n",
       "</style>\n",
       "<table border=\"1\" class=\"dataframe\">\n",
       "  <thead>\n",
       "    <tr style=\"text-align: right;\">\n",
       "      <th></th>\n",
       "      <th>Date</th>\n",
       "      <th>Adj Close</th>\n",
       "    </tr>\n",
       "  </thead>\n",
       "  <tbody>\n",
       "    <tr>\n",
       "      <th>5322</th>\n",
       "      <td>2021-08-02</td>\n",
       "      <td>3223.040039</td>\n",
       "    </tr>\n",
       "    <tr>\n",
       "      <th>5323</th>\n",
       "      <td>2021-08-03</td>\n",
       "      <td>3237.139893</td>\n",
       "    </tr>\n",
       "    <tr>\n",
       "      <th>5324</th>\n",
       "      <td>2021-08-04</td>\n",
       "      <td>3280.379883</td>\n",
       "    </tr>\n",
       "    <tr>\n",
       "      <th>5325</th>\n",
       "      <td>2021-08-05</td>\n",
       "      <td>3276.129883</td>\n",
       "    </tr>\n",
       "    <tr>\n",
       "      <th>5326</th>\n",
       "      <td>2021-08-06</td>\n",
       "      <td>3270.360107</td>\n",
       "    </tr>\n",
       "    <tr>\n",
       "      <th>5327</th>\n",
       "      <td>2021-08-09</td>\n",
       "      <td>3260.419922</td>\n",
       "    </tr>\n",
       "    <tr>\n",
       "      <th>5328</th>\n",
       "      <td>2021-08-10</td>\n",
       "      <td>3243.189941</td>\n",
       "    </tr>\n",
       "    <tr>\n",
       "      <th>5329</th>\n",
       "      <td>2021-08-11</td>\n",
       "      <td>3220.620117</td>\n",
       "    </tr>\n",
       "    <tr>\n",
       "      <th>5330</th>\n",
       "      <td>2021-08-12</td>\n",
       "      <td>3208.379883</td>\n",
       "    </tr>\n",
       "    <tr>\n",
       "      <th>5331</th>\n",
       "      <td>2021-08-13</td>\n",
       "      <td>3171.290039</td>\n",
       "    </tr>\n",
       "  </tbody>\n",
       "</table>\n",
       "</div>"
      ],
      "text/plain": [
       "           Date    Adj Close\n",
       "5322 2021-08-02  3223.040039\n",
       "5323 2021-08-03  3237.139893\n",
       "5324 2021-08-04  3280.379883\n",
       "5325 2021-08-05  3276.129883\n",
       "5326 2021-08-06  3270.360107\n",
       "5327 2021-08-09  3260.419922\n",
       "5328 2021-08-10  3243.189941\n",
       "5329 2021-08-11  3220.620117\n",
       "5330 2021-08-12  3208.379883\n",
       "5331 2021-08-13  3171.290039"
      ]
     },
     "execution_count": 36,
     "metadata": {},
     "output_type": "execute_result"
    }
   ],
   "source": [
    "month_list = price_df['Date'].map(lambda x : datetime.datetime.strftime(x, '%Y-%m')).unique()\n",
    "book = price_df.copy()\n",
    "book.tail(10)"
   ]
  },
  {
   "cell_type": "code",
   "execution_count": 37,
   "id": "e53f982c",
   "metadata": {},
   "outputs": [],
   "source": [
    "# 1. 절대 모멘텀 Trading Signal 생성\n",
    "\n",
    "rebal_date= pd.DataFrame()\n",
    "for m in month_list:\n",
    "    rebal_date = rebal_date.append(price_df[price_df['Date'].map(lambda x : datetime.datetime.strftime(x, '%Y-%m'))== m].iloc[-1])\n",
    "rebal_date.set_index(['Date'],inplace=True)\n",
    "rebal_date.head()\n",
    "\n",
    "rebal_date['Rct_Adj Close'] = rebal_date.shift(lookback_m1)['Adj Close']\n",
    "rebal_date['Pst_Adj Close'] = rebal_date.shift(lookback_m2)['Adj Close']\n",
    "rebal_date = rebal_date.dropna(axis =0)\n",
    "rebal_date['signal'] = np.where(rebal_date['Rct_Adj Close'] / rebal_date['Pst_Adj Close'] > 1,1,0)\n",
    "rebal_date['YYYY-MM'] = rebal_date.index.map(lambda x : datetime.datetime.strftime(x, '%Y-%m'))\n",
    "book['YYYY-MM'] = book['Date'].map(lambda x : datetime.datetime.strftime(x, '%Y-%m'))\n",
    "book = pd.merge(book, rebal_date[['Rct_Adj Close', 'Pst_Adj Close', 'signal', 'YYYY-MM']], how = 'left', on = 'YYYY-MM')"
   ]
  },
  {
   "cell_type": "code",
   "execution_count": 38,
   "id": "641ae8bd",
   "metadata": {},
   "outputs": [
    {
     "data": {
      "text/html": [
       "<div>\n",
       "<style scoped>\n",
       "    .dataframe tbody tr th:only-of-type {\n",
       "        vertical-align: middle;\n",
       "    }\n",
       "\n",
       "    .dataframe tbody tr th {\n",
       "        vertical-align: top;\n",
       "    }\n",
       "\n",
       "    .dataframe thead th {\n",
       "        text-align: right;\n",
       "    }\n",
       "</style>\n",
       "<table border=\"1\" class=\"dataframe\">\n",
       "  <thead>\n",
       "    <tr style=\"text-align: right;\">\n",
       "      <th></th>\n",
       "      <th>Date</th>\n",
       "      <th>Adj Close</th>\n",
       "      <th>YYYY-MM</th>\n",
       "      <th>Rct_Adj Close</th>\n",
       "      <th>Pst_Adj Close</th>\n",
       "      <th>signal</th>\n",
       "    </tr>\n",
       "  </thead>\n",
       "  <tbody>\n",
       "    <tr>\n",
       "      <th>5322</th>\n",
       "      <td>2021-08-02</td>\n",
       "      <td>3223.040039</td>\n",
       "      <td>2021-08</td>\n",
       "      <td>3202.320068</td>\n",
       "      <td>2326.169922</td>\n",
       "      <td>1.0</td>\n",
       "    </tr>\n",
       "    <tr>\n",
       "      <th>5323</th>\n",
       "      <td>2021-08-03</td>\n",
       "      <td>3237.139893</td>\n",
       "      <td>2021-08</td>\n",
       "      <td>3202.320068</td>\n",
       "      <td>2326.169922</td>\n",
       "      <td>1.0</td>\n",
       "    </tr>\n",
       "    <tr>\n",
       "      <th>5324</th>\n",
       "      <td>2021-08-04</td>\n",
       "      <td>3280.379883</td>\n",
       "      <td>2021-08</td>\n",
       "      <td>3202.320068</td>\n",
       "      <td>2326.169922</td>\n",
       "      <td>1.0</td>\n",
       "    </tr>\n",
       "    <tr>\n",
       "      <th>5325</th>\n",
       "      <td>2021-08-05</td>\n",
       "      <td>3276.129883</td>\n",
       "      <td>2021-08</td>\n",
       "      <td>3202.320068</td>\n",
       "      <td>2326.169922</td>\n",
       "      <td>1.0</td>\n",
       "    </tr>\n",
       "    <tr>\n",
       "      <th>5326</th>\n",
       "      <td>2021-08-06</td>\n",
       "      <td>3270.360107</td>\n",
       "      <td>2021-08</td>\n",
       "      <td>3202.320068</td>\n",
       "      <td>2326.169922</td>\n",
       "      <td>1.0</td>\n",
       "    </tr>\n",
       "    <tr>\n",
       "      <th>5327</th>\n",
       "      <td>2021-08-09</td>\n",
       "      <td>3260.419922</td>\n",
       "      <td>2021-08</td>\n",
       "      <td>3202.320068</td>\n",
       "      <td>2326.169922</td>\n",
       "      <td>1.0</td>\n",
       "    </tr>\n",
       "    <tr>\n",
       "      <th>5328</th>\n",
       "      <td>2021-08-10</td>\n",
       "      <td>3243.189941</td>\n",
       "      <td>2021-08</td>\n",
       "      <td>3202.320068</td>\n",
       "      <td>2326.169922</td>\n",
       "      <td>1.0</td>\n",
       "    </tr>\n",
       "    <tr>\n",
       "      <th>5329</th>\n",
       "      <td>2021-08-11</td>\n",
       "      <td>3220.620117</td>\n",
       "      <td>2021-08</td>\n",
       "      <td>3202.320068</td>\n",
       "      <td>2326.169922</td>\n",
       "      <td>1.0</td>\n",
       "    </tr>\n",
       "    <tr>\n",
       "      <th>5330</th>\n",
       "      <td>2021-08-12</td>\n",
       "      <td>3208.379883</td>\n",
       "      <td>2021-08</td>\n",
       "      <td>3202.320068</td>\n",
       "      <td>2326.169922</td>\n",
       "      <td>1.0</td>\n",
       "    </tr>\n",
       "    <tr>\n",
       "      <th>5331</th>\n",
       "      <td>2021-08-13</td>\n",
       "      <td>3171.290039</td>\n",
       "      <td>2021-08</td>\n",
       "      <td>3202.320068</td>\n",
       "      <td>2326.169922</td>\n",
       "      <td>1.0</td>\n",
       "    </tr>\n",
       "  </tbody>\n",
       "</table>\n",
       "</div>"
      ],
      "text/plain": [
       "           Date    Adj Close  YYYY-MM  Rct_Adj Close  Pst_Adj Close  signal\n",
       "5322 2021-08-02  3223.040039  2021-08    3202.320068    2326.169922     1.0\n",
       "5323 2021-08-03  3237.139893  2021-08    3202.320068    2326.169922     1.0\n",
       "5324 2021-08-04  3280.379883  2021-08    3202.320068    2326.169922     1.0\n",
       "5325 2021-08-05  3276.129883  2021-08    3202.320068    2326.169922     1.0\n",
       "5326 2021-08-06  3270.360107  2021-08    3202.320068    2326.169922     1.0\n",
       "5327 2021-08-09  3260.419922  2021-08    3202.320068    2326.169922     1.0\n",
       "5328 2021-08-10  3243.189941  2021-08    3202.320068    2326.169922     1.0\n",
       "5329 2021-08-11  3220.620117  2021-08    3202.320068    2326.169922     1.0\n",
       "5330 2021-08-12  3208.379883  2021-08    3202.320068    2326.169922     1.0\n",
       "5331 2021-08-13  3171.290039  2021-08    3202.320068    2326.169922     1.0"
      ]
     },
     "execution_count": 38,
     "metadata": {},
     "output_type": "execute_result"
    }
   ],
   "source": [
    "book.tail(10)"
   ]
  },
  {
   "cell_type": "code",
   "execution_count": 39,
   "id": "9ec93124",
   "metadata": {},
   "outputs": [],
   "source": [
    "# 2. 수익률 계산 \n",
    "for i in book.index :\n",
    "    if book.loc[i, 'signal'] == 1 and book.shift(1).loc[i,'signal'] == 0  :     \n",
    "        buy = book.loc[i, 'Adj Close']\n",
    "    elif book.loc[i, 'signal'] == 1 and book.shift(1).loc[i,'signal'] == 1 :\n",
    "        current = book.loc[i, 'Adj Close']\n",
    "        rtn = (current - buy) / buy  + 1 \n",
    "        book.loc[i, 'return'] = rtn \n",
    "    elif book.loc[i, 'signal'] == 0 and book.shift(1).loc[i,'signal'] == 1 :    \n",
    "        sell = book.loc[i, 'Adj Close']\n",
    "        rtn = (sell - buy) / buy  + 1\n",
    "        book.loc[i, 'return'] = rtn    \n",
    "acc_rtn = 1         \n",
    "for i in book.index:\n",
    "    if book.loc[i, 'signal'] == 0 and book.shift(1).loc[i, 'signal'] == 1 :    \n",
    "        rtn = book.loc[i, 'return']\n",
    "        acc_rtn = acc_rtn * rtn \n",
    "        book.loc[i:, 'acc return'] = acc_rtn\n",
    "    book['return_BM'] = book['Adj Close'].pct_change().fillna(0)\n",
    "    book['acc return_BM'] = ((1 + book['Adj Close'].pct_change()).cumprod()).fillna(0)    \n"
   ]
  },
  {
   "cell_type": "code",
   "execution_count": 40,
   "id": "8926f87a",
   "metadata": {},
   "outputs": [],
   "source": [
    "result = book"
   ]
  },
  {
   "cell_type": "code",
   "execution_count": 41,
   "id": "5d8a3a37",
   "metadata": {},
   "outputs": [
    {
     "data": {
      "text/plain": [
       "<matplotlib.legend.Legend at 0x24f36af4220>"
      ]
     },
     "execution_count": 41,
     "metadata": {},
     "output_type": "execute_result"
    },
    {
     "data": {
      "image/png": "[encoded data removed]",
      "text/plain": [
       "<Figure size 432x288 with 1 Axes>"
      ]
     },
     "metadata": {
      "needs_background": "light"
     },
     "output_type": "display_data"
    }
   ],
   "source": [
    "# \n",
    "import matplotlib.pyplot as plt\n",
    "fig, ax1 = plt.subplots()\n",
    "ax1.set_xlabel('StdDate')\n",
    "ax1.set_ylabel('Rtn(cum)')\n",
    "line1 = ax1.plot(result['Date'],result['acc return'],color='orangered', label ='AB_Momentum')\n",
    "line2 = ax1.plot(result['Date'],result['acc return_BM'],color='dodgerblue', label =TICKER)\n",
    "lines =line1 + line2\n",
    "labels = [l.get_label() for l in lines]\n",
    "ax1.legend(lines,labels)"
   ]
  },
  {
   "cell_type": "code",
   "execution_count": 43,
   "id": "c2fdc627",
   "metadata": {},
   "outputs": [
    {
     "data": {
      "image/png": "[encoded data removed]",
      "text/plain": [
       "<Figure size 1080x504 with 1 Axes>"
      ]
     },
     "metadata": {
      "needs_background": "light"
     },
     "output_type": "display_data"
    }
   ],
   "source": [
    "# 절대모멘텀 signal\n",
    "plt.figure(figsize=(15,7))\n",
    "plt.title('AM_signal')\n",
    "result['Adj Close'].plot(color = 'paleturquoise',linestyle='--')\n",
    "result[result['signal']==1]['Adj Close'].plot(color='r', linestyle='None', marker='^')\n",
    "plt.legend()\n",
    "plt.show()"
   ]
  }
 ],
 "metadata": {
  "kernelspec": {
   "display_name": "Python 3",
   "language": "python",
   "name": "python3"
  },
  "language_info": {
   "codemirror_mode": {
    "name": "ipython",
    "version": 3
   },
   "file_extension": ".py",
   "mimetype": "text/x-python",
   "name": "python",
   "nbconvert_exporter": "python",
   "pygments_lexer": "ipython3",
   "version": "3.8.8"
  }
 },
 "nbformat": 4,
 "nbformat_minor": 5
}
